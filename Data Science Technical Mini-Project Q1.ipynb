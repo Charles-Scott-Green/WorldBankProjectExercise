{
 "cells": [
  {
   "cell_type": "code",
   "execution_count": 1,
   "metadata": {},
   "outputs": [],
   "source": [
    "#Find the 10 countries with most projects\n",
    "\n",
    "import pandas as pd\n",
    "import numpy as np\n",
    "import json\n",
    "import collections\n",
    "from pandas.io.json import json_normalize\n",
    "\n",
    "pd.options.display.max_columns = 999\n",
    "\n",
    "wbproj = pd.read_json('/Users/charlesgreen/desktop/data/World Bank Projects/world_bank_projects.json')\n",
    "\n",
    "#Viewing df columns\n",
    "#wbproj"
   ]
  },
  {
   "cell_type": "code",
   "execution_count": 2,
   "metadata": {},
   "outputs": [],
   "source": [
    "#Plan to answer ? is counting occurences of unique entries.\n",
    "#wbproj.info()"
   ]
  },
  {
   "cell_type": "code",
   "execution_count": 23,
   "metadata": {},
   "outputs": [
    {
     "data": {
      "text/plain": [
       "[('China', 19),\n",
       " ('Indonesia', 19),\n",
       " ('Vietnam', 17),\n",
       " ('India', 16),\n",
       " ('Yemen, Republic of', 13),\n",
       " ('Bangladesh', 12),\n",
       " ('Morocco', 12),\n",
       " ('Nepal', 12),\n",
       " ('Africa', 11),\n",
       " ('Mozambique', 11)]"
      ]
     },
     "execution_count": 23,
     "metadata": {},
     "output_type": "execute_result"
    }
   ],
   "source": [
    "#'countryshortname' is non-null and therefore applicable.\n",
    "#create a np array with 'countryshortname' column\n",
    "countries = wbproj['countryshortname'].values\n",
    "\n",
    "#create and sort dictionary with 'countryshortname' and count of occurences of each unique name in the array. \n",
    "unique, counts = np.unique(countries, return_counts=True)\n",
    "countries_projects = dict(zip(unique, counts))\n",
    "\n",
    "#sort in descending order\n",
    "countries_projects = sorted(countries_projects.items(), key=lambda x: x[1], reverse=True)\n",
    "\n",
    "#First objective:  10 countries with most projects\n",
    "countries_projects[:10]"
   ]
  },
  {
   "cell_type": "markdown",
   "metadata": {},
   "source": []
  }
 ],
 "metadata": {
  "kernelspec": {
   "display_name": "Python 3",
   "language": "python",
   "name": "python3"
  },
  "language_info": {
   "codemirror_mode": {
    "name": "ipython",
    "version": 3
   },
   "file_extension": ".py",
   "mimetype": "text/x-python",
   "name": "python",
   "nbconvert_exporter": "python",
   "pygments_lexer": "ipython3",
   "version": "3.6.3"
  }
 },
 "nbformat": 4,
 "nbformat_minor": 2
}
